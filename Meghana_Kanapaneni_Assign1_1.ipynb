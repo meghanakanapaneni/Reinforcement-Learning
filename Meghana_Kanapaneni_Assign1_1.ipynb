{
  "nbformat": 4,
  "nbformat_minor": 0,
  "metadata": {
    "accelerator": "GPU",
    "colab": {
      "name": "RL_prog01.ipynb",
      "provenance": [],
      "collapsed_sections": []
    },
    "kernelspec": {
      "display_name": "Python 3",
      "language": "python",
      "name": "python3"
    },
    "language_info": {
      "codemirror_mode": {
        "name": "ipython",
        "version": 3
      },
      "file_extension": ".py",
      "mimetype": "text/x-python",
      "name": "python",
      "nbconvert_exporter": "python",
      "pygments_lexer": "ipython3",
      "version": "3.5.6"
    }
  },
  "cells": [
    {
      "cell_type": "code",
      "metadata": {
        "colab_type": "code",
        "id": "cspjBcst7WH9",
        "colab": {}
      },
      "source": [
        "#importing required libraries\n",
        "import numpy as np\n",
        "from math import factorial\n",
        "import matplotlib.pyplot as plt"
      ],
      "execution_count": 0,
      "outputs": []
    },
    {
      "cell_type": "code",
      "metadata": {
        "colab_type": "code",
        "id": "GreL7qoM7zya",
        "colab": {}
      },
      "source": [
        "#Initializing the given parameters\n",
        "Herd=12\n",
        "gamma = 0.9\n",
        "epsilon = 0.05"
      ],
      "execution_count": 0,
      "outputs": []
    },
    {
      "cell_type": "code",
      "metadata": {
        "colab_type": "code",
        "id": "PeDV19M9T7Hk",
        "colab": {}
      },
      "source": [
        "#Caluculating nCr \n",
        "n = r = Herd\n",
        "C=[[0 for i in range(Herd+1)] for j in range(Herd+1)]\n",
        "for i in range(Herd+1):\n",
        "    for j in range(i+1):\n",
        "        if(j==0 or j==i):\n",
        "            C[i][j]=1\n",
        "        else:\n",
        "            C[i][j]=factorial(i)/(factorial(j)*factorial(i-j)) \n",
        "  "
      ],
      "execution_count": 0,
      "outputs": []
    },
    {
      "cell_type": "code",
      "metadata": {
        "colab_type": "code",
        "id": "A19tHu1eD44b",
        "colab": {}
      },
      "source": [
        "#Initializing the state and action space sizes\n",
        "stateSpaceSize = actionSpaceSize = 0"
      ],
      "execution_count": 0,
      "outputs": []
    },
    {
      "cell_type": "code",
      "metadata": {
        "colab_type": "code",
        "id": "rCFf8k3rCTFL",
        "colab": {}
      },
      "source": [
        "#Initializing the dictionaries of mapping of states and indexes\n",
        "stateToIndex = dict()\n",
        "indexToState = dict()"
      ],
      "execution_count": 0,
      "outputs": []
    },
    {
      "cell_type": "code",
      "metadata": {
        "colab_type": "code",
        "id": "jLpSnZQR8KvP",
        "colab": {}
      },
      "source": [
        "#Rewards and Pay-off initialization\n",
        "utility = np.array([[0.3,0.4,0.2]])\n",
        "payoff = np.array([[2.,6,4]])"
      ],
      "execution_count": 0,
      "outputs": []
    },
    {
      "cell_type": "code",
      "metadata": {
        "colab_type": "code",
        "id": "nKreO2xV9v9n",
        "colab": {}
      },
      "source": [
        "#Initializating the probabilites\n",
        "prob_transition = np.array([[0.9,0.1,0.0],[0,0.75,0.25],[0.0,0.15,0.85]])\n",
        "prob_offspring = np.array([[1.0,0.0,0.0],[0.05,0.8,0.15],[1.0,0.0,0.0]])"
      ],
      "execution_count": 0,
      "outputs": []
    },
    {
      "cell_type": "code",
      "metadata": {
        "colab_type": "code",
        "id": "dpQtf5vD-ajh",
        "colab": {}
      },
      "source": [
        "#caluculating expected reward\n",
        "def getReward(state,action):\n",
        "  return np.sum((state - action)*payoff + (action*utility))"
      ],
      "execution_count": 0,
      "outputs": []
    },
    {
      "cell_type": "code",
      "metadata": {
        "colab_type": "code",
        "id": "BGFXOScc_3b7",
        "colab": {}
      },
      "source": [
        "#Method to get all possible states for given herd size\n",
        "def getStates(H):\n",
        "  global stateSpaceSize,actionSpaceSize\n",
        "  count = 0\n",
        "  for i in range(H+1):\n",
        "    for j in range(H+1):\n",
        "      for k in range(H+1):\n",
        "        if i+j+k <= H:\n",
        "          stateToIndex[(i,j,k)] = count\n",
        "          indexToState[count] = (i,j,k)\n",
        "          count+=1\n",
        "          stateSpaceSize = actionSpaceSize = count\n",
        "          \n",
        "  "
      ],
      "execution_count": 0,
      "outputs": []
    },
    {
      "cell_type": "code",
      "metadata": {
        "colab_type": "code",
        "id": "WTTJ9uRdAMCC",
        "colab": {}
      },
      "source": [
        "getStates(Herd)"
      ],
      "execution_count": 0,
      "outputs": []
    },
    {
      "cell_type": "code",
      "metadata": {
        "colab_type": "code",
        "id": "X49JBdf2MIxG",
        "colab": {}
      },
      "source": [
        "#Calculate all possible actions for given state\n",
        "def getActions(state):\n",
        "  actions=[]\n",
        "  for i in range(state[0]+1):\n",
        "    for j in range(state[1]+1):\n",
        "      for k in range(state[2]+1):\n",
        "        actions.append((i,j,k))\n",
        "  return actions"
      ],
      "execution_count": 0,
      "outputs": []
    },
    {
      "cell_type": "code",
      "metadata": {
        "colab_type": "code",
        "id": "sur1jowtDQxb",
        "colab": {}
      },
      "source": [
        "#Creating table for storing 'v' values\n",
        "v_Table = np.array([0.0 for i in range(stateSpaceSize)])"
      ],
      "execution_count": 0,
      "outputs": []
    },
    {
      "cell_type": "code",
      "metadata": {
        "colab_type": "code",
        "id": "CeoqkHVOVyi_",
        "colab": {}
      },
      "source": [
        "#Calculate reward during breeding\n",
        "def getRewardafterState(state):\n",
        "  max_child = Herd - (state[0]+state[1]+state[2])\n",
        "  reward = 0\n",
        "  for r in range(state[1]+1):\n",
        "    for q in range(state[1]+1-r):\n",
        "      p = state[1]-q-r\n",
        "      n = q+2*r\n",
        "      if n > max_child:\n",
        "        break\n",
        "      astate = (state[0]+n,state[1],state[2])\n",
        "      ind = stateToIndex[astate]\n",
        "      reward += v_Table[ind] * pow(prob_offspring[1][0],p) * pow(prob_offspring[1][1],q) * pow(prob_offspring[1][2],r)*C[state[1]][r]*C[state[1]-r][q]\n",
        "  return reward"
      ],
      "execution_count": 0,
      "outputs": []
    },
    {
      "cell_type": "code",
      "metadata": {
        "colab_type": "code",
        "id": "yDDFWJOKPYwS",
        "colab": {}
      },
      "source": [
        "#Method to calculate expected reward of next state\n",
        "def getExpectedReward(state):\n",
        "  reward = 0\n",
        "  for p in range(state[0]+1):\n",
        "    for q in range(state[1]+1):\n",
        "      for r in range(state[2]+1):\n",
        "        newState=(state[0]-p,state[1]-q+p+r,state[2]-r+q) \n",
        "        reward += C[state[0]][p]*C[state[1]][q]*C[state[2]][r]*getRewardafterState(newState)*pow(prob_transition[0][1],p)*pow(prob_transition[1][2],q)*pow(prob_transition[2][1],r)*pow(1-prob_transition[0][1],state[0]-p)*pow(1-prob_transition[1][2],state[1]-q)*pow(1-prob_transition[2][1],state[2]-r)\n",
        "  return reward"
      ],
      "execution_count": 0,
      "outputs": []
    },
    {
      "cell_type": "code",
      "metadata": {
        "colab_type": "code",
        "id": "f4c9r9nvFcsN",
        "outputId": "6d53be8e-213d-48cf-dc23-bbb16d4e9c10",
        "colab": {
          "base_uri": "https://localhost:8080/",
          "height": 425
        }
      },
      "source": [
        "#Value iteration\n",
        "n=0\n",
        "v_Table_new = np.array([0.0 for i in range(stateSpaceSize)])\n",
        "pi = [(0,0,0) for i in range(stateSpaceSize)] #creating policy table to store optimal policy\n",
        "min_err = epsilon * (1 - gamma)/(2 * gamma)\n",
        "while True:\n",
        "  n+=1\n",
        "  print(\"current Iteration :- \",n,\",\",end=\"\")\n",
        "  for i in stateToIndex.keys():\n",
        "    for j in getActions(i):\n",
        "      e_reward = getReward(np.array(i).reshape(1,3),np.array(j).reshape(1,3)) #E_r/s,a\n",
        "      c_reward = getExpectedReward((i[0]-j[0],i[1]-j[1],i[2]-j[2]))\n",
        "      reward = e_reward + gamma * c_reward\n",
        "      if reward > v_Table_new[stateToIndex[i]]:\n",
        "        v_Table_new[stateToIndex[i]] = reward\n",
        "        pi[stateToIndex[i]] = j\n",
        "  err = 0\n",
        "  for i in range(v_Table.shape[0]):\n",
        "    err += ((v_Table[i] - v_Table_new[i])**2)\n",
        "    v_Table[i] = v_Table_new[i]\n",
        "    v_Table_new[i] = 0.0\n",
        "  if n==1:\n",
        "    v1=np.copy(v_Table)\n",
        "  if n==10:\n",
        "    v10=np.copy(v_Table)\n",
        "  err = np.sqrt(err)\n",
        "  print(\"Error is \",err)\n",
        "  if err < min_err:\n",
        "    break"
      ],
      "execution_count": 0,
      "outputs": [
        {
          "output_type": "stream",
          "text": [
            "current Iteration :-  1 ,Error is  822.8244041106219\n",
            "current Iteration :-  2 ,Error is  501.05635561010524\n",
            "current Iteration :-  3 ,Error is  469.9093497945953\n",
            "current Iteration :-  4 ,Error is  417.90854553477857\n",
            "current Iteration :-  5 ,Error is  376.4424729904833\n",
            "current Iteration :-  6 ,Error is  335.4809676033914\n",
            "current Iteration :-  7 ,Error is  299.3230608414669\n",
            "current Iteration :-  8 ,Error is  267.1059495941237\n",
            "current Iteration :-  9 ,Error is  238.82023962851062\n",
            "current Iteration :-  10 ,Error is  214.01958396784792\n",
            "current Iteration :-  11 ,Error is  191.99034381218044\n",
            "current Iteration :-  12 ,Error is  172.29854294535517\n",
            "current Iteration :-  13 ,Error is  154.44272532052875\n",
            "current Iteration :-  14 ,Error is  138.36963759659133\n",
            "current Iteration :-  15 ,Error is  123.93055337018986\n",
            "current Iteration :-  16 ,Error is  110.97793341645108\n",
            "current Iteration :-  17 ,Error is  99.3658661475336\n",
            "current Iteration :-  18 ,Error is  88.95755728032576\n",
            "current Iteration :-  19 ,Error is  79.62955821905776\n",
            "current Iteration :-  20 ,Error is  71.27121630391545\n",
            "current Iteration :-  21 ,Error is  63.790237130538934\n",
            "current Iteration :-  22 ,Error is  57.09518788050565\n",
            "current Iteration :-  23 ,Error is  51.108585149157115\n",
            "current Iteration :-  24 ,"
          ],
          "name": "stdout"
        }
      ]
    },
    {
      "cell_type": "code",
      "metadata": {
        "colab_type": "code",
        "id": "z-JzDJqhNSXc",
        "colab": {}
      },
      "source": [
        "indexToState[np.argmax(v_Table)],pi[np.argmax(v_Table)]"
      ],
      "execution_count": 0,
      "outputs": []
    },
    {
      "cell_type": "code",
      "metadata": {
        "colab_type": "code",
        "id": "6wQFNeXKOwD9",
        "colab": {}
      },
      "source": [
        "np.max(v_Table) "
      ],
      "execution_count": 0,
      "outputs": []
    },
    {
      "cell_type": "code",
      "metadata": {
        "colab_type": "code",
        "id": "h0Q9CcURXrPb",
        "colab": {}
      },
      "source": [
        "#Method to convert states into base 13\n",
        "def getEncryptedStatesBase13():\n",
        "  return np.array([ 169*i[0] + 13*i[1] + i[2] for i in stateToIndex.keys()])\n",
        "    "
      ],
      "execution_count": 0,
      "outputs": []
    },
    {
      "cell_type": "code",
      "metadata": {
        "colab_type": "code",
        "id": "jg_-1KI0PNuX",
        "colab": {}
      },
      "source": [
        "x=getEncryptedStatesBase13()"
      ],
      "execution_count": 0,
      "outputs": []
    },
    {
      "cell_type": "code",
      "metadata": {
        "colab_type": "code",
        "id": "DEvALOdEaMF2",
        "colab": {}
      },
      "source": [
        "#plot for States vs V-Table at 1\n",
        "plt.plot(x,v1)\n",
        "plt.show()"
      ],
      "execution_count": 0,
      "outputs": []
    },
    {
      "cell_type": "code",
      "metadata": {
        "colab_type": "code",
        "id": "e-y98sz9aLx2",
        "colab": {}
      },
      "source": [
        "#plot for States vs V-Table at 10\n",
        "plt.plot(x,v10)\n",
        "plt.show()"
      ],
      "execution_count": 0,
      "outputs": []
    },
    {
      "cell_type": "code",
      "metadata": {
        "colab_type": "code",
        "id": "IkfXqnOwY7IM",
        "colab": {}
      },
      "source": [
        "#plot for States vs optimal V-Table \n",
        "plt.plot(x,v_Table)\n",
        "plt.show()"
      ],
      "execution_count": 0,
      "outputs": []
    },
    {
      "cell_type": "code",
      "metadata": {
        "colab_type": "code",
        "id": "7YzR_VXlZiNd",
        "colab": {}
      },
      "source": [
        "x[np.argmax(v10)]"
      ],
      "execution_count": 0,
      "outputs": []
    },
    {
      "cell_type": "code",
      "metadata": {
        "colab_type": "code",
        "id": "iGNAsQW5aoJp",
        "colab": {}
      },
      "source": [
        ""
      ],
      "execution_count": 0,
      "outputs": []
    }
  ]
}